{
 "cells": [
  {
   "cell_type": "code",
   "execution_count": 1,
   "metadata": {},
   "outputs": [],
   "source": [
    "import glob\n",
    "import torchvision\n",
    "import hashlib\n",
    "import json\n",
    "import multiprocessing\n",
    "import os\n",
    "import shutil\n",
    "from multiprocessing import Pool\n",
    "from tqdm.notebook import trange, tqdm\n",
    "\n",
    "import eye_detector\n",
    "from IPython.display import display\n",
    "import torchvision.transforms.functional as TF\n",
    "import torch"
   ]
  },
  {
   "cell_type": "code",
   "execution_count": 2,
   "metadata": {},
   "outputs": [],
   "source": [
    "base_dir = \"/mnt/wsl/PHYSICALDRIVE3p2/processed_dataset\"\n",
    "kwd = \"/mnt/wsl/PHYSICALDRIVE3p1/datasets/**/*.[jJ][pP][gG]\"\n",
    "face_size=256"
   ]
  },
  {
   "cell_type": "code",
   "execution_count": 3,
   "metadata": {},
   "outputs": [],
   "source": [
    "def get_file_hash(filename):\n",
    "    h = hashlib.new(\"md5\")\n",
    "    h.update(filename.encode(\"utf-8\"))\n",
    "    return h.hexdigest()"
   ]
  },
  {
   "cell_type": "code",
   "execution_count": 4,
   "metadata": {},
   "outputs": [],
   "source": [
    "def is_small_img(img, thres):\n",
    "    return img.width < thres or img.height < thres"
   ]
  },
  {
   "cell_type": "code",
   "execution_count": 5,
   "metadata": {},
   "outputs": [],
   "source": [
    "def process_and_save(filename):\n",
    "    id = get_file_hash(filename)\n",
    "    metadata_filename = \"{}/metadata/{}.json\".format(base_dir, id)\n",
    "    if os.path.exists(metadata_filename):\n",
    "        # print(\"duplicated:\", metadata_filename)\n",
    "        return\n",
    "    people = []\n",
    "    orig_metadata_filename = filename + \".json\"\n",
    "    try:\n",
    "        with open(orig_metadata_filename, \"r\") as f:\n",
    "            j = json.load(f)\n",
    "            people = [person[\"name\"] for person in j[\"people\"] if person[\"name\"] is not None]\n",
    "            if len(people) == 0 and len(j[\"people\"]) != 0:\n",
    "                print(\"unknown person: \", j[\"people\"])\n",
    "    except:\n",
    "        pass\n",
    "\n",
    "    faces_meta = []\n",
    "    no_face = True\n",
    "    for angle in (0, 90, 180, 270):\n",
    "        (raw_image, faces, face_images) = eye_detector.process(filename, angle)\n",
    "        for faceno, face_detected_img in enumerate(face_images):\n",
    "            if is_small_img(face_detected_img, 300):\n",
    "                continue\n",
    "            face_detected_filename = \"{}/face-detected/{}-{}-{:02x}.png\".format(base_dir, id, angle, faceno)\n",
    "            face_detected_img.save(face_detected_filename, format=\"png\", compress_level=1)\n",
    "            no_face=False\n",
    "        for faceno, (accurate_face, raw_points, left_eye_center, right_eye_center) in enumerate(faces):\n",
    "            if is_small_img(accurate_face, 100):\n",
    "                continue\n",
    "            faces_meta.append(\n",
    "                {\n",
    "                    \"bbox\": {\"ltx\": raw_points[0][0], \"lty\": raw_points[0][1], \"lbx\": raw_points[1][0], \"lby\": raw_points[1][1], \"rbx\": raw_points[2][0], \"rby\": raw_points[2][1], \"rtx\": raw_points[3][0], \"rty\": raw_points[3][1]},\n",
    "                    \"eyes\": {\"lx\": left_eye_center[0], \"ly\": left_eye_center[1], \"rx\": right_eye_center[0], \"ry\": right_eye_center[1]},\n",
    "                    \"angle\": angle,\n",
    "                }\n",
    "            )\n",
    "            # heatmap_filename = \"{}/eye-label/{}-{}-{:02x}.png\".format(base_dir, id, angle, faceno)\n",
    "            # heatmap.save(heatmap_filename, format=\"png\", compress_level=1)\n",
    "\n",
    "            face_filename = \"{}/face-cropped/{}-{}-{:02x}.png\".format(base_dir, id, angle, faceno)\n",
    "            accurate_face.save(face_filename, format=\"png\", compress_level=1)\n",
    "            resized = accurate_face.resize((face_size,face_size))\n",
    "            resized_filename = \"{}/face-resized/{}-{}-{:02x}.pt\".format(base_dir, id, angle, faceno)\n",
    "            resized = TF.to_tensor(resized)\n",
    "            torch.save(resized, resized_filename)\n",
    "    if no_face:\n",
    "        noface_image_filename = \"{}/noface/{}.jpg\".format(base_dir, id)\n",
    "        os.symlink(filename, noface_image_filename)\n",
    "    metadata = {\"id\": id, \"filename\": filename, \"faces\": faces_meta, \"people\": people}\n",
    "\n",
    "    with open(metadata_filename, \"w\") as fd:\n",
    "        json.dump(metadata, fd)"
   ]
  },
  {
   "cell_type": "code",
   "execution_count": 6,
   "metadata": {},
   "outputs": [],
   "source": [
    "def recreate_dir(dirname):\n",
    "        dirname = base_dir + \"/\" + dirname\n",
    "        shutil.rmtree(dirname)\n",
    "        os.mkdir(dirname)"
   ]
  },
  {
   "cell_type": "code",
   "execution_count": 7,
   "metadata": {},
   "outputs": [],
   "source": [
    "def delete_all_file():\n",
    "    recreate_dir(\"metadata\")\n",
    "    recreate_dir(\"face-detected\")\n",
    "    recreate_dir(\"noface\")\n",
    "    recreate_dir(\"face-cropped\")\n",
    "    recreate_dir(\"face-resized\")\n",
    "\n",
    "# delete_all_file()"
   ]
  },
  {
   "cell_type": "code",
   "execution_count": 8,
   "metadata": {},
   "outputs": [],
   "source": [
    "cpu_count = 4"
   ]
  },
  {
   "cell_type": "code",
   "execution_count": 9,
   "metadata": {},
   "outputs": [
    {
     "data": {
      "application/vnd.jupyter.widget-view+json": {
       "model_id": "aafa9eba61c94a8aa897191db3016383",
       "version_major": 2,
       "version_minor": 0
      },
      "text/plain": [
       "  0%|          | 0/43881 [00:00<?, ?it/s]"
      ]
     },
     "metadata": {},
     "output_type": "display_data"
    },
    {
     "name": "stderr",
     "output_type": "stream",
     "text": [
      "/home/yjsnpi/.conda/envs/aokiapp/lib/python3.9/site-packages/torch/nn/functional.py:780: UserWarning: Note that order of the arguments: ceil_mode and return_indices will changeto match the args list in nn.MaxPool2d in a future release.\n",
      "  warnings.warn(\"Note that order of the arguments: ceil_mode and return_indices will change\"\n",
      "/home/yjsnpi/.conda/envs/aokiapp/lib/python3.9/site-packages/torch/nn/functional.py:780: UserWarning: Note that order of the arguments: ceil_mode and return_indices will changeto match the args list in nn.MaxPool2d in a future release.\n",
      "  warnings.warn(\"Note that order of the arguments: ceil_mode and return_indices will change\"\n",
      "/home/yjsnpi/.conda/envs/aokiapp/lib/python3.9/site-packages/torch/nn/functional.py:780: UserWarning: Note that order of the arguments: ceil_mode and return_indices will changeto match the args list in nn.MaxPool2d in a future release.\n",
      "  warnings.warn(\"Note that order of the arguments: ceil_mode and return_indices will change\"\n",
      "/home/yjsnpi/.conda/envs/aokiapp/lib/python3.9/site-packages/torch/nn/functional.py:780: UserWarning: Note that order of the arguments: ceil_mode and return_indices will changeto match the args list in nn.MaxPool2d in a future release.\n",
      "  warnings.warn(\"Note that order of the arguments: ceil_mode and return_indices will change\"\n"
     ]
    }
   ],
   "source": [
    "files = glob.glob(kwd, recursive=True)\n",
    "with tqdm(total=len(files)) as t:\n",
    "    with Pool(cpu_count) as p:\n",
    "        for _ in p.imap_unordered(process_and_save, files):\n",
    "            t.update(1)"
   ]
  },
  {
   "cell_type": "code",
   "execution_count": null,
   "metadata": {},
   "outputs": [],
   "source": [
    "for unz in glob.glob(kwd, recursive=True)[425:436]:\n",
    "    process_and_save(unz)"
   ]
  },
  {
   "cell_type": "code",
   "execution_count": null,
   "metadata": {},
   "outputs": [],
   "source": []
  }
 ],
 "metadata": {
  "kernelspec": {
   "display_name": "Python 3",
   "language": "python",
   "name": "python3"
  },
  "language_info": {
   "codemirror_mode": {
    "name": "ipython",
    "version": 3
   },
   "file_extension": ".py",
   "mimetype": "text/x-python",
   "name": "python",
   "nbconvert_exporter": "python",
   "pygments_lexer": "ipython3",
   "version": "3.9.11"
  }
 },
 "nbformat": 4,
 "nbformat_minor": 4
}
